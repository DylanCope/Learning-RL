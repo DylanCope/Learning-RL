{
 "cells": [
  {
   "cell_type": "code",
   "execution_count": 1,
   "metadata": {
    "collapsed": true
   },
   "outputs": [],
   "source": [
    "from snake import Snake as SnakeGame, KeyboardUser as SnakeKeyboardUser\n",
    "from time import sleep\n",
    "from IPython.display import clear_output\n",
    "from graph_tools import get_unique_cycles, reward_per_turn, get_cycles\n",
    "import numpy as np\n",
    "import pandas as pd\n",
    "import random\n",
    "from functools import reduce, partial\n",
    "import math\n",
    "import matplotlib.pyplot as plt\n",
    "import seaborn as sns\n",
    "import warnings\n",
    "import types\n",
    "warnings.filterwarnings('ignore')\n",
    "%matplotlib inline"
   ]
  },
  {
   "cell_type": "markdown",
   "metadata": {},
   "source": [
    "# Q-Learning\n",
    "\n",
    "The premise is a typical reinforcement learning one whereby we have an agent in a stochastic environment where the state is known and where the environment provides the agents with \"rewards\" for it's actions. The key idea behind Q-learning is to learn a mapping $Q^*(s_t, a_t)$ from states $s_t$ and actions $a_t$ to some value which is referred to as the quality of doing that action in that state. Then when the agent is in some state $s$, with available actions $A$, we define a policy to dictate choosing actions:\n",
    "\n",
    "$$\n",
    "    \\pi(s) = \\arg \\max_a P\\big(\\text{taking action}~a~|~Q^*(s, a)\\big)\n",
    "$$\n",
    "\n",
    "The probability distribution $P$ can be designed in a variety of ways to promote different behaviour. For example, we could force the agent choose the action with the highest associated $Q$-value, i.e. $P(a~|~Q^*(s, a)= 1$ if $Q^*(s, a) = \\max_{a'} Q^*(s, a')$ and zero otherwise, or we could have it behave stochastically such that it occasionally takes actions that it views to be sub-optimal. We may want to encourage the latter kind of behaviour in situations where we believe the agent's $Q$-function to be an inaccurate description for reward generation, thereby the agent will be more inclined to explore the environment and adjust it's model appropriately. On a given timestep $t$ where the agent has recieved reward $r_t$ from taking action $a_t$ in state $s_t$, the adjustment happens by perturbing $Q^*$ according to the update rule:\n",
    "\n",
    "$$\n",
    "{\\displaystyle Q^*(s_{t},a_{t})\\leftarrow (1-\\alpha )\\cdot \\underbrace {Q^*(s_{t},a_{t})} _{\\rm {old~value}}+\\underbrace {\\alpha } _{\\rm {learning~rate}}\\cdot {\\bigg (}\\underbrace {r_{t}} _{\\rm {reward}}+\\underbrace {\\gamma } _{\\rm {discount~factor}}\\cdot \\underbrace {V^*(s_{t+1})} _{\\rm {estimate~of~optimal~future~value}}{\\bigg )}}\n",
    "$$\n",
    "The discount factor $\\gamma$ serves to tell the agent how much emphasis it should put on future reward $V^*$. Typically we restrain $0 \\leq \\gamma \\leq 1$, due to how after increasing the discount factor beyond one the agent will often deploy very poor or even actively bad strategies. To understand why this happens, consider the term $ r_t + \\gamma V^*(s_{t+1}) $ from the $Q$-function update rule and notice how for $\\gamma > 1$ the update to the $Q$-function is more effected by $V^*$ than $r_t$, which given how $V^*$ is derived from the agent's pre-existing model means that if said model is erroneous then the bad behavioud can be exponentially reinforced. "
   ]
  },
  {
   "cell_type": "markdown",
   "metadata": {},
   "source": [
    "## Simple State Traversal\n",
    "\n",
    "This \"game\" lays bare the fundamental nature of $Q$-learning. There are $n$ states $S = \\{s_1, \\dots, s_n\\}$ that the agent can be in. For each state the agent can choose to transition to a select number of other states as defined. A reward function $R : T \\rightarrow \\mathbb{R}$ is defined for all legal transistions $T \\subseteq S^2$. For simplicity, this game is deterministic, however, we will see later that Q-Learners really beat the competition when non-determinism is introduced.\n",
    "\n",
    "We will encode the $Q$-function as a matrix where $Q_{ij}$ represents the quality being in state $s_i$ and taking the action of transitioning to state $s_j$. In this example the states, legal actions and associated rewards are described by the following graph:\n",
    "\n",
    "<img src=\"./state_game.png\" width=\"300px\" />\n",
    "\n",
    "The nodes represent five states; $A$, $B$, $C$, $D$ and $E$, and the edges represent the reward for transitioning between states and the agent will be given a set number or transistions to maximise it's total reward. Notice how the structure of the game gives agents different options for generating reward, with a purposeful local maxima at state $C$. Therefore, we should expect agents with a low emphasis on future reward (i.e. low $\\gamma$) to assign the highest quality on continually transitioning from $C$ to $C$. On the other hand, a more intelligent agent should notice that continually moving along the path $A\\rightarrow E\\rightarrow D\\rightarrow B\\rightarrow A\\rightarrow\\dots$ provides a higher net reward per turn.\n",
    "\n",
    "### Optimal Play:\n",
    "\n",
    "Given how simple this game is, we can brute force through all possible strategies to find the best one. To do this we use a depth-first search algorithm to find all the cycles in state space and then for each cycle we measure the expected reward gained per turn for constant traversal."
   ]
  },
  {
   "cell_type": "code",
   "execution_count": 2,
   "metadata": {},
   "outputs": [
    {
     "data": {
      "text/html": [
       "<div>\n",
       "<table border=\"1\" class=\"dataframe\">\n",
       "  <thead>\n",
       "    <tr style=\"text-align: right;\">\n",
       "      <th></th>\n",
       "      <th>Cycle</th>\n",
       "      <th>Reward Per Turn</th>\n",
       "    </tr>\n",
       "  </thead>\n",
       "  <tbody>\n",
       "    <tr>\n",
       "      <th>0</th>\n",
       "      <td>B -&gt; C -&gt; B</td>\n",
       "      <td>-10.000000</td>\n",
       "    </tr>\n",
       "    <tr>\n",
       "      <th>1</th>\n",
       "      <td>B -&gt; C -&gt; D -&gt; B</td>\n",
       "      <td>6.666667</td>\n",
       "    </tr>\n",
       "    <tr>\n",
       "      <th>2</th>\n",
       "      <td>C -&gt; C</td>\n",
       "      <td>40.000000</td>\n",
       "    </tr>\n",
       "    <tr>\n",
       "      <th>3</th>\n",
       "      <td>D -&gt; E -&gt; D</td>\n",
       "      <td>-10.000000</td>\n",
       "    </tr>\n",
       "    <tr>\n",
       "      <th>4</th>\n",
       "      <td>A -&gt; E -&gt; D -&gt; B -&gt; A</td>\n",
       "      <td>50.000000</td>\n",
       "    </tr>\n",
       "    <tr>\n",
       "      <th>5</th>\n",
       "      <td>B -&gt; D -&gt; B</td>\n",
       "      <td>10.000000</td>\n",
       "    </tr>\n",
       "  </tbody>\n",
       "</table>\n",
       "</div>"
      ],
      "text/plain": [
       "                   Cycle  Reward Per Turn\n",
       "0            B -> C -> B       -10.000000\n",
       "1       B -> C -> D -> B         6.666667\n",
       "2                 C -> C        40.000000\n",
       "3            D -> E -> D       -10.000000\n",
       "4  A -> E -> D -> B -> A        50.000000\n",
       "5            B -> D -> B        10.000000"
      ]
     },
     "execution_count": 2,
     "metadata": {},
     "output_type": "execute_result"
    }
   ],
   "source": [
    "graph = { 'A' : {'E': 120},\n",
    "          'B' : {'A': -20, 'C': 0, 'D': -100},\n",
    "          'C' : {'B': -20, 'C': 40, 'D': -100},\n",
    "          'D' : {'B': 120, 'E': 0},\n",
    "          'E' : {'D': -20} }\n",
    "\n",
    "def normalize(cycle):\n",
    "    n = np.array(list(map(ord, cycle[:-1]))).argmin()\n",
    "    return ' -> '.join(cycle[n:-1] + cycle[:n] + cycle[n:n+1])\n",
    "\n",
    "pd.DataFrame([(normalize(c), reward_per_turn(graph, c))\n",
    "              for c in get_unique_cycles(graph)], \n",
    "             columns = ['Cycle', 'Reward Per Turn'])"
   ]
  },
  {
   "cell_type": "markdown",
   "metadata": {},
   "source": [
    "### State Traversal Q-Learner:\n",
    "\n",
    "The following code implements the state traversal game and agent. The agent will implement a simple Gaussian policy parameterized by an exploration parameter $e$, which serves as the standard deviation for normally distributed variables, such that given the current state $s_c$ we choose the next state $s_n$ based upon,\n",
    "\n",
    "$$\n",
    "    s_n = \\text{argmax}_{s_i}\\{~x_i~:~s_i \\in N~\\}, \\quad\\text{where}~ x_i \\in \\mathcal{N}\\big(Q_i,~ e^2\\big)\n",
    "$$\n",
    "\n",
    "More information about designing this stochastic process is provided in another notebook, however in summary, as the exploration parameter $e$ approaches infinity, the probability of choosing the action with the higher $Q$-value approaches a half. Hence we can control the agents inclination to explore by varying $e$.gained by the move that was just made."
   ]
  },
  {
   "cell_type": "code",
   "execution_count": 3,
   "metadata": {},
   "outputs": [],
   "source": [
    "class GeneralStateTraversalGame:\n",
    "    \n",
    "    def _transform_graph(self, graph):\n",
    "        state_to_idx = { s : i for i, s in enumerate(graph.keys()) }\n",
    "        cvt_options = lambda options : { state_to_idx[end] : reward\n",
    "                                        for end, reward in options.items() }\n",
    "        \n",
    "        self.graph = { state_to_idx[start] : cvt_options(options)\n",
    "                       for start, options in graph.items() }\n",
    "        \n",
    "        self.idx_to_state = dict(enumerate(graph.keys()))\n",
    "        \n",
    "    def __init__(self, graph, seed = 0):\n",
    "        self._transform_graph(graph)\n",
    "        self.states = list(self.graph.keys())\n",
    "        self.num_states = len(self.states)\n",
    "        \n",
    "        if seed:\n",
    "            random.seed(seed)\n",
    "        self.state = random.choice(self.states)\n",
    "    \n",
    "    def get_possible_actions(self, from_state = None):\n",
    "        return list(self.graph[from_state or self.state].keys())\n",
    "        \n",
    "    def reward_for_action(self, end_state):\n",
    "        return self.graph[self.state][end_state]\n",
    "    \n",
    "    def go_to(self, next_state):\n",
    "        self.state = next_state\n",
    "\n",
    "StateTraversalGame = partial(GeneralStateTraversalGame, graph)\n",
    "        \n",
    "class QLearningAgent:\n",
    "    \n",
    "    def __init__(self, \n",
    "                 game,\n",
    "                 discount_factor = 0.5,\n",
    "                 learning_rate = 0.1,\n",
    "                 exploration_factor = 0):\n",
    "        \n",
    "        # core internal state\n",
    "        self.game = game\n",
    "        self.q_matrix = np.zeros((game.num_states, game.num_states))\n",
    "        self.lifetime_reward = 0\n",
    "        self.t = 0\n",
    "        \n",
    "        # learning parameters\n",
    "        self.lr = learning_rate\n",
    "        self.df = discount_factor\n",
    "        self.ef = exploration_factor\n",
    "        \n",
    "        # learning records\n",
    "        self.record = True\n",
    "        self.q_history = []\n",
    "        self.reward_history = []\n",
    "        self.state_history = [self.game.idx_to_state[self.game.state]]\n",
    "        \n",
    "    def learning_rate(self, t):\n",
    "        return self.lr\n",
    "    \n",
    "    def discount_factor(self, t):\n",
    "        return self.df\n",
    "    \n",
    "    def exploration_factor(self, t):\n",
    "        return self.ef\n",
    "        \n",
    "    def future_reward_estimate(self, next_state):\n",
    "        actions = self.game.get_possible_actions(from_state = next_state)\n",
    "        return self.q_matrix[next_state, actions].max()\n",
    "        \n",
    "    def update_q_matrix(self, next_state, reward):\n",
    "        future_value = self.future_reward_estimate(next_state)\n",
    "        curr_q = self.q_matrix[self.game.state, next_state]\n",
    "        \n",
    "        lr = self.learning_rate(self.t)\n",
    "        df = self.discount_factor(self.t)\n",
    "        self.q_matrix[self.game.state, next_state] = \\\n",
    "            (1 - lr) * curr_q + lr * (reward + df * future_value)\n",
    "    \n",
    "    def next_state_from_policy(self):\n",
    "        possible_actions = self.game.get_possible_actions()\n",
    "        q_values = self.q_matrix[self.game.state, possible_actions]\n",
    "        ef = self.exploration_factor(self.t)\n",
    "        if ef > 0:\n",
    "            rand_vars = [ np.random.normal(loc = q_i, scale = ef)\n",
    "                          for q_i in q_values ]\n",
    "            next_state_idx = np.array(rand_vars).argmax()\n",
    "        else:\n",
    "            next_state_idx = q_values.argmax()\n",
    "        return possible_actions[next_state_idx]\n",
    "    \n",
    "    def turn(self):\n",
    "        next_state = self.next_state_from_policy()\n",
    "        reward = self.game.reward_for_action(next_state)\n",
    "        self.update_q_matrix(next_state, reward)\n",
    "        self.game.go_to(next_state)\n",
    "        \n",
    "        self.lifetime_reward += reward\n",
    "        self.t += 1\n",
    "        \n",
    "        if self.record:\n",
    "            self.reward_history += [reward]\n",
    "            self.q_history += [self.q_matrix.copy()]\n",
    "            self.state_history += [self.game.idx_to_state[self.game.state]]\n",
    "    \n",
    "    def play(self, num_turns = 100, seed = 0):\n",
    "        if seed:\n",
    "            np.random.seed(seed)\n",
    "        for turn in range(num_turns):\n",
    "            self.turn()"
   ]
  },
  {
   "cell_type": "markdown",
   "metadata": {},
   "source": [
    "### Evaluation:\n",
    "\n",
    "With this implementation we can set up a game and run an agent for 1000 timesteps. We discern the \"strategy\" that a given agent has deployed by comparing the last entries in it's state history to the graph cycles discussed above. To run a game we inject all the aforementioned parameters with the addition of a random seed (for reproducibility) and an exploration decay variable to reduce the exploration factor over time. The intuition here is as the agent has explores more it should become more confident in it's model and start acting more in accordance with it's beliefs. The \"decay rate\" determines what fraction of the total timesteps should be dedicated to exploring (by default an agent's $e$ value will have decayed to $e=1$ in $T~/~2$ timesteps). \n",
    "\n",
    "The first experiment runs for 1000 timesteps and has an exploration parameter of 1000, a learning rate of 0.1 and a discount factor of 0.5. These were chosen semi-arbitrarily, with the exception of ensuring the exploration parameter is large enough to make sure the behaviour is sufficiently varied at the start of the game. Similarly, the learning rate was chosen to ensure the $Q$-values don't blow up too quickly."
   ]
  },
  {
   "cell_type": "code",
   "execution_count": 4,
   "metadata": {},
   "outputs": [
    {
     "name": "stdout",
     "output_type": "stream",
     "text": [
      "Agent's end strategy: C -> C\n",
      "Total lifetime reward 34800\n",
      "Number of turns: 1000\n",
      "Final Q-matrix:\n"
     ]
    },
    {
     "data": {
      "text/html": [
       "<div>\n",
       "<table border=\"1\" class=\"dataframe\">\n",
       "  <thead>\n",
       "    <tr style=\"text-align: right;\">\n",
       "      <th></th>\n",
       "      <th>C</th>\n",
       "      <th>D</th>\n",
       "      <th>B</th>\n",
       "      <th>E</th>\n",
       "      <th>A</th>\n",
       "    </tr>\n",
       "  </thead>\n",
       "  <tbody>\n",
       "    <tr>\n",
       "      <th>C</th>\n",
       "      <td>80.000000</td>\n",
       "      <td>-28.172310</td>\n",
       "      <td>-8.756086</td>\n",
       "      <td>0.000000</td>\n",
       "      <td>0.000000</td>\n",
       "    </tr>\n",
       "    <tr>\n",
       "      <th>D</th>\n",
       "      <td>0.000000</td>\n",
       "      <td>0.000000</td>\n",
       "      <td>123.341379</td>\n",
       "      <td>7.973731</td>\n",
       "      <td>0.000000</td>\n",
       "    </tr>\n",
       "    <tr>\n",
       "      <th>B</th>\n",
       "      <td>15.000659</td>\n",
       "      <td>-37.203816</td>\n",
       "      <td>0.000000</td>\n",
       "      <td>0.000000</td>\n",
       "      <td>17.330456</td>\n",
       "    </tr>\n",
       "    <tr>\n",
       "      <th>E</th>\n",
       "      <td>0.000000</td>\n",
       "      <td>35.584601</td>\n",
       "      <td>0.000000</td>\n",
       "      <td>0.000000</td>\n",
       "      <td>0.000000</td>\n",
       "    </tr>\n",
       "    <tr>\n",
       "      <th>A</th>\n",
       "      <td>0.000000</td>\n",
       "      <td>0.000000</td>\n",
       "      <td>0.000000</td>\n",
       "      <td>110.866248</td>\n",
       "      <td>0.000000</td>\n",
       "    </tr>\n",
       "  </tbody>\n",
       "</table>\n",
       "</div>"
      ],
      "text/plain": [
       "           C          D           B           E          A\n",
       "C  80.000000 -28.172310   -8.756086    0.000000   0.000000\n",
       "D   0.000000   0.000000  123.341379    7.973731   0.000000\n",
       "B  15.000659 -37.203816    0.000000    0.000000  17.330456\n",
       "E   0.000000  35.584601    0.000000    0.000000   0.000000\n",
       "A   0.000000   0.000000    0.000000  110.866248   0.000000"
      ]
     },
     "execution_count": 4,
     "metadata": {},
     "output_type": "execute_result"
    }
   ],
   "source": [
    "def discern_strategy(path, num_cycles = 5):\n",
    "    cycles = get_cycles(graph)\n",
    "    def is_strat(s1):\n",
    "        return s1[:-1]*num_cycles == path[-num_cycles*(len(s1) - 1):]\n",
    "    strat = reduce(lambda s1, s2 : s1 if is_strat(s1) else s2, \n",
    "                   cycles)\n",
    "    if not is_strat(strat):\n",
    "        return None\n",
    "    return normalize(strat)\n",
    "\n",
    "def play(turns = 1000,   # number of turns \n",
    "         ef    = 1000.,  # exploration factor\n",
    "         dr    = 2.0,    # decay rate \n",
    "         lr    = 0.1,    # learning rate\n",
    "         df    = 0.5,    # discount factor\n",
    "         seed  = 0,\n",
    "         Agent = QLearningAgent,\n",
    "         Game  = StateTraversalGame):\n",
    "    \n",
    "    game= Game(seed = seed)\n",
    "    agent = Agent(game,\n",
    "                  learning_rate      = lr,\n",
    "                  discount_factor    = df,\n",
    "                  exploration_factor = ef)\n",
    "    \n",
    "    decay = ef**(-dr / turns)\n",
    "    def exploration_factor(t):\n",
    "        return ef * decay ** t\n",
    "    agent.exploration_factor = exploration_factor\n",
    "    \n",
    "    agent.play(num_turns = turns, seed = seed)\n",
    "    return agent\n",
    "\n",
    "def game_summary(agent):\n",
    "    print('Agent\\'s end strategy:', \n",
    "           discern_strategy(agent.state_history))\n",
    "    print('Total lifetime reward', agent.lifetime_reward)\n",
    "    print('Number of turns:', agent.t)\n",
    "    print('Final Q-matrix:')\n",
    "    keys = list(graph.keys())\n",
    "    return pd.DataFrame(agent.q_matrix, \n",
    "                        columns = keys, \n",
    "                        index = keys)\n",
    "    \n",
    "game_summary(play())"
   ]
  },
  {
   "cell_type": "markdown",
   "metadata": {},
   "source": [
    "We can see that the agent has fallen for the local-maxima trap at $C$, which should be expected for such a low discount factor ($0.5$). To peer deeper we will run 100 trials of this set-up with varying discount factors and count the times that different strategies are deployed. "
   ]
  },
  {
   "cell_type": "code",
   "execution_count": 5,
   "metadata": {},
   "outputs": [],
   "source": [
    "def play_games(**kwargs):\n",
    "    if 'trials' not in kwargs: kwargs['trials'] = 100\n",
    "    play_kwargs = [(k, v) for k, v in kwargs.items() \n",
    "                   if k != 'trials']\n",
    "    agents = [ play(**dict(play_kwargs + [('seed', s+1)])) \n",
    "               for s in range(kwargs['trials']) ]\n",
    "    return agents\n",
    "\n",
    "def describe_strategies(agents):\n",
    "    rewards = [a.lifetime_reward / (a.t + 1) for a in agents]\n",
    "    strats = [discern_strategy(a.state_history) for a in agents]\n",
    "    df = pd.DataFrame(np.array([rewards, strats]).transpose(),\n",
    "                      columns = ['Mean Reward Per Turn', 'Strategy'])\n",
    "    df = df.convert_objects(convert_numeric = True)\n",
    "    return df.groupby('Strategy').describe(percentiles = [])\n",
    "\n",
    "def discount_factor_experiments(discount_factors, **kwargs):\n",
    "    play_kwargs = lambda df : dict(list(kwargs.items()) + [('df', df)])\n",
    "    df_experiments = { df : play_games(**play_kwargs(df)) \n",
    "                       for df in discount_factors }\n",
    "\n",
    "    tables  = { 'Discount factor = %.2f' % df : describe_strategies(agents) \n",
    "                for df, agents in df_experiments.items() }\n",
    "    return pd.concat(tables, axis = 1).fillna(0)\n",
    "\n",
    "def plot_strategies(data_frame, x):\n",
    "    strats = list(data_frame.index.levels[0])\n",
    "    plt.figure(figsize = (8, 8))\n",
    "    x = discount_factors\n",
    "    last = np.array([ 0.0 for _ in x ])\n",
    "    for s in strats:\n",
    "        counts = np.array(data_frame.loc[s].loc['count'])\n",
    "        means = np.array(data_frame.loc[s].loc['mean'])\n",
    "        mean = (counts * means).sum() / counts.sum()\n",
    "        label = 'Strategy = $%s$' % s.replace('->', '\\\\rightarrow') + \\\n",
    "                '\\nMean reward per turn = %.2f\\n' % mean\n",
    "        plt.bar(x, counts, label = label, bottom = last, width = 0.07)\n",
    "        last += counts\n",
    "    plt.xlabel('Discount Factor')\n",
    "    plt.ylabel('Count')\n",
    "    plt.ylim([0, 105])\n",
    "    plt.legend(prop = {'size' : 12}, \n",
    "               loc='upper left', \n",
    "               bbox_to_anchor=(1, 1))\n",
    "    plt.show()"
   ]
  },
  {
   "cell_type": "code",
   "execution_count": 51,
   "metadata": {
    "scrolled": false
   },
   "outputs": [
    {
     "data": {
      "image/png": "[encoded data removed]",
      "text/plain": [
       "<matplotlib.figure.Figure at 0x294531c7780>"
      ]
     },
     "metadata": {},
     "output_type": "display_data"
    }
   ],
   "source": [
    "discount_factors = np.arange(0.1, 1.05, 0.1)\n",
    "data_frame = discount_factor_experiments(discount_factors)\n",
    "plot_strategies(data_frame, discount_factors)"
   ]
  },
  {
   "cell_type": "code",
   "execution_count": 53,
   "metadata": {},
   "outputs": [
    {
     "data": {
      "image/png": "[encoded data removed]",
      "text/plain": [
       "<matplotlib.figure.Figure at 0x29421e3de80>"
      ]
     },
     "metadata": {},
     "output_type": "display_data"
    }
   ],
   "source": [
    "discount_factors = np.arange(0.1, 1.05, 0.1)\n",
    "data_frame = discount_factor_experiments(discount_factors, turns = 2000)\n",
    "plot_strategies(data_frame, discount_factors)"
   ]
  },
  {
   "cell_type": "code",
   "execution_count": 80,
   "metadata": {},
   "outputs": [
    {
     "data": {
      "image/png": "[encoded data removed]",
      "text/plain": [
       "<matplotlib.figure.Figure at 0x2941b7354a8>"
      ]
     },
     "metadata": {},
     "output_type": "display_data"
    }
   ],
   "source": [
    "discount_factors = np.arange(0.1, 1.05, 0.1)\n",
    "data_frame = discount_factor_experiments(discount_factors, turns = 10000, lr = 0.01)\n",
    "plot_strategies(data_frame, discount_factors)"
   ]
  },
  {
   "cell_type": "markdown",
   "metadata": {},
   "source": [
    "## Markov Decision Processes\n",
    "\n",
    "This state traversal game has been a simpler, deterministic form of a Markov decision process (MDP) - the mathematical framework in which a $Q$-learner typically makes decisions within. The main difference is all actions can be performed in any state, and each state-action pair has an associated probability value with each state corresponding to the likelihood of taking the action in one state and transitioning to another. Furthermore, each transition has an associated reward. The following diagram exemplifies this set-up (where no link indicates a zero-probability transition and a no reward arrow indicates zero reward):  \n",
    "\n",
    "<img src=\"https://upload.wikimedia.org/wikipedia/commons/thumb/a/ad/Markov_Decision_Process.svg/400px-Markov_Decision_Process.svg.png\" />\n",
    "\n",
    "For example, if the agent is in state $s_0$ and takes $a_1$ then it will transition to state $s_2$ with $100\\%$ certainty, however, if it's in state $s_1$ and takes action $a_0$ it will transition to $s_0$ $70\\%$ of the time, $s_1$ $10\\%$ of the time and $s_2$ $20\\%$ of the time, and in the case where it transitions to $s_0$ the agent recieve's a reward of $+5$."
   ]
  },
  {
   "cell_type": "markdown",
   "metadata": {},
   "source": [
    "## Snake\n",
    "\n",
    "Snake is a game where an agent has four controls that steer the head of a \"snake\" in four directions. The snake is composed of a set of continguous cells in two-dimensions. On each timestep the head cell moves in agent-defined direction and the last cell of the tail disapears unless the head cell touches a \"berry\". This is termed as eating the berry to increase the snake's length; the ultimate goal of the game is to make the snake as long as possible. The game ends when the head of the snake collides with the body. If the head of the snake comes up against the walls of the environment, it wraps around to the opposite edge.\n",
    "\n",
    "<img src=\"./snake_screenshot.png\", width=300px />"
   ]
  },
  {
   "cell_type": "code",
   "execution_count": 2,
   "metadata": {
    "scrolled": false
   },
   "outputs": [
    {
     "name": "stdout",
     "output_type": "stream",
     "text": [
      "Game Over. Score: 3500\n"
     ]
    }
   ],
   "source": [
    "snake = SnakeGame()\n",
    "user = SnakeKeyboardUser()\n",
    "\n",
    "try:\n",
    "    while not snake.is_game_over():\n",
    "        user.control(snake)\n",
    "        snake.update()\n",
    "        sleep(0.1)\n",
    "        print('Score: %d' % snake.score())\n",
    "        clear_output(wait = True)\n",
    "except: pass\n",
    "finally:\n",
    "    user.close_game()\n",
    "print('Game Over. Score: %d' % snake.score())"
   ]
  }
 ],
 "metadata": {
  "anaconda-cloud": {},
  "kernelspec": {
   "display_name": "Python 3",
   "language": "python",
   "name": "python3"
  },
  "language_info": {
   "codemirror_mode": {
    "name": "ipython",
    "version": 3
   },
   "file_extension": ".py",
   "mimetype": "text/x-python",
   "name": "python",
   "nbconvert_exporter": "python",
   "pygments_lexer": "ipython3",
   "version": "3.5.4"
  }
 },
 "nbformat": 4,
 "nbformat_minor": 2
}
